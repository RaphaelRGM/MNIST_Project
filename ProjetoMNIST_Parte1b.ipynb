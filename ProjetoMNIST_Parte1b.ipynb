{
 "cells": [
  {
   "cell_type": "code",
   "execution_count": 1,
   "metadata": {},
   "outputs": [],
   "source": [
    "# Importar bibliotecas necessárias\n",
    "import numpy as np\n",
    "import matplotlib.pyplot as plt\n",
    "%matplotlib inline\n",
    "plt.style.use('default')\n",
    "from sklearn.metrics import confusion_matrix\n",
    "\n",
    "from tensorflow.keras.models import Sequential\n",
    "from tensorflow.keras.layers import Dense, Convolution2D, MaxPooling2D, Flatten, Activation\n",
    "from tensorflow.keras.utils import to_categorical\n",
    "from tensorflow.keras.datasets import mnist"
   ]
  },
  {
   "cell_type": "code",
   "execution_count": 2,
   "metadata": {},
   "outputs": [],
   "source": [
    "# Carregar os dados do MNIST (imagens de dígitos de 0 a 9)\n",
    "(x_train, y_train), (x_test, y_test) = mnist.load_data()"
   ]
  },
  {
   "cell_type": "code",
   "execution_count": 3,
   "metadata": {},
   "outputs": [
    {
     "data": {
      "image/png": "[encoded data removed]",
      "text/plain": [
       "<Figure size 1200x600 with 10 Axes>"
      ]
     },
     "metadata": {},
     "output_type": "display_data"
    }
   ],
   "source": [
    "# Lista para armazenar os índices das primeiras ocorrências de cada dígito\n",
    "indices = []\n",
    "\n",
    "# Encontrar os índices das primeiras ocorrências dos dígitos de 0 a 9\n",
    "for digit in range(10):\n",
    "    idx = np.where(y_train == digit)[0][0]  # Obter o primeiro índice do dígito\n",
    "    indices.append(idx)\n",
    "\n",
    "# Exibir as 10 imagens correspondentes aos índices encontrados\n",
    "plt.figure(figsize=(12, 6))\n",
    "for i, idx in enumerate(indices):\n",
    "    plt.subplot(2, 5, i + 1)  # Layout 2x5 para 10 imagens\n",
    "    plt.imshow(x_train[idx], cmap=\"gray\")  # Exibir a imagem do dígito\n",
    "    plt.title(f\"Dígito: {y_train[idx]}\")  # Corrigir o título para o rótulo correto\n",
    "    plt.axis(\"off\")  # Remover os eixos\n",
    "\n",
    "plt.tight_layout()  # Ajustar o layout para evitar sobreposição\n",
    "plt.show()"
   ]
  },
  {
   "cell_type": "code",
   "execution_count": null,
   "metadata": {},
   "outputs": [
    {
     "data": {
      "image/png": "[encoded data removed]",
      "text/plain": [
       "<Figure size 400x400 with 1 Axes>"
      ]
     },
     "metadata": {},
     "output_type": "display_data"
    },
    {
     "name": "stdout",
     "output_type": "stream",
     "text": [
      "Valores dos pixels do dígito 0 (28x28):\n",
      "[[  0   0   0   0   0   0   0   0   0   0   0   0   0   0   0   0   0   0\n",
      "    0   0   0   0   0   0   0   0   0   0]\n",
      " [  0   0   0   0   0   0   0   0   0   0   0   0   0   0   0   0   0   0\n",
      "    0   0   0   0   0   0   0   0   0   0]\n",
      " [  0   0   0   0   0   0   0   0   0   0   0   0   0   0   0   0   0   0\n",
      "    0   0   0   0   0   0   0   0   0   0]\n",
      " [  0   0   0   0   0   0   0   0   0   0   0   0   0   0   0   0   0   0\n",
      "    0   0   0   0   0   0   0   0   0   0]\n",
      " [  0   0   0   0   0   0   0   0   0   0   0   0   0   0   0   0   0   0\n",
      "    0   0   0   0   0   0   0   0   0   0]\n",
      " [  0   0   0   0   0   0   0   0   0   0   0   0   0   0   0   0   0   0\n",
      "  124 253 255  63   0   0   0   0   0   0]\n",
      " [  0   0   0   0   0   0   0   0   0   0   0   0   0   0   0   0   0  96\n",
      "  244 251 253  62   0   0   0   0   0   0]\n",
      " [  0   0   0   0   0   0   0   0   0   0   0   0   0   0   0   0   0 127\n",
      "  251 251 253  62   0   0   0   0   0   0]\n",
      " [  0   0   0   0   0   0   0   0   0   0   0   0   0   0   0   0  68 236\n",
      "  251 211  31   8   0   0   0   0   0   0]\n",
      " [  0   0   0   0   0   0   0   0   0   0   0   0   0   0   0  60 228 251\n",
      "  251  94   0   0   0   0   0   0   0   0]\n",
      " [  0   0   0   0   0   0   0   0   0   0   0   0   0   0   0 155 253 253\n",
      "  189   0   0   0   0   0   0   0   0   0]\n",
      " [  0   0   0   0   0   0   0   0   0   0   0   0   0   0  20 253 251 235\n",
      "   66   0   0   0   0   0   0   0   0   0]\n",
      " [  0   0   0   0   0   0   0   0   0   0   0   0   0  32 205 253 251 126\n",
      "    0   0   0   0   0   0   0   0   0   0]\n",
      " [  0   0   0   0   0   0   0   0   0   0   0   0   0 104 251 253 184  15\n",
      "    0   0   0   0   0   0   0   0   0   0]\n",
      " [  0   0   0   0   0   0   0   0   0   0   0   0  80 240 251 193  23   0\n",
      "    0   0   0   0   0   0   0   0   0   0]\n",
      " [  0   0   0   0   0   0   0   0   0   0   0  32 253 253 253 159   0   0\n",
      "    0   0   0   0   0   0   0   0   0   0]\n",
      " [  0   0   0   0   0   0   0   0   0   0   0 151 251 251 251  39   0   0\n",
      "    0   0   0   0   0   0   0   0   0   0]\n",
      " [  0   0   0   0   0   0   0   0   0   0  48 221 251 251 172   0   0   0\n",
      "    0   0   0   0   0   0   0   0   0   0]\n",
      " [  0   0   0   0   0   0   0   0   0   0 234 251 251 196  12   0   0   0\n",
      "    0   0   0   0   0   0   0   0   0   0]\n",
      " [  0   0   0   0   0   0   0   0   0   0 253 251 251  89   0   0   0   0\n",
      "    0   0   0   0   0   0   0   0   0   0]\n",
      " [  0   0   0   0   0   0   0   0   0 159 255 253 253  31   0   0   0   0\n",
      "    0   0   0   0   0   0   0   0   0   0]\n",
      " [  0   0   0   0   0   0   0   0  48 228 253 247 140   8   0   0   0   0\n",
      "    0   0   0   0   0   0   0   0   0   0]\n",
      " [  0   0   0   0   0   0   0   0  64 251 253 220   0   0   0   0   0   0\n",
      "    0   0   0   0   0   0   0   0   0   0]\n",
      " [  0   0   0   0   0   0   0   0  64 251 253 220   0   0   0   0   0   0\n",
      "    0   0   0   0   0   0   0   0   0   0]\n",
      " [  0   0   0   0   0   0   0   0  24 193 253 220   0   0   0   0   0   0\n",
      "    0   0   0   0   0   0   0   0   0   0]\n",
      " [  0   0   0   0   0   0   0   0   0   0   0   0   0   0   0   0   0   0\n",
      "    0   0   0   0   0   0   0   0   0   0]\n",
      " [  0   0   0   0   0   0   0   0   0   0   0   0   0   0   0   0   0   0\n",
      "    0   0   0   0   0   0   0   0   0   0]\n",
      " [  0   0   0   0   0   0   0   0   0   0   0   0   0   0   0   0   0   0\n",
      "    0   0   0   0   0   0   0   0   0   0]]\n"
     ]
    }
   ],
   "source": [
    "idx_digit = indices[1]\n",
    "digit_image = x_train[idx_digit]\n",
    "\n",
    "# Exibir a imagem do dígito\n",
    "plt.figure(figsize=(4, 4))\n",
    "plt.imshow(digit_image, cmap=\"gray\")\n",
    "plt.title(f\"Dígito: {y_train[idx_digit]} (Dígito)\")\n",
    "plt.axis(\"off\")  # Remover os eixos\n",
    "plt.show()\n",
    "\n",
    "# Imprimir os valores numéricos dos pixels\n",
    "print(\"Valores dos pixels do dígito (28x28):\")\n",
    "print(digit_image)"
   ]
  },
  {
   "cell_type": "code",
   "execution_count": 8,
   "metadata": {},
   "outputs": [],
   "source": [
    "# Dividir os dados de treino em treino e validação\n",
    "X_train = x_train[0:50000] / 255.0  # Normalizar os dados para o intervalo [0, 1]\n",
    "Y_train = to_categorical(y_train[0:50000], 10)  # One-hot encoding para os rótulos\n",
    "\n",
    "X_val = x_train[50000:60000] / 255.0  # Dados de validação\n",
    "Y_val = to_categorical(y_train[50000:60000], 10)\n",
    "\n",
    "X_test = x_test / 255.0  # Normalizar os dados de teste\n",
    "Y_test = to_categorical(y_test, 10)"
   ]
  },
  {
   "cell_type": "code",
   "execution_count": 9,
   "metadata": {},
   "outputs": [
    {
     "data": {
      "image/png": "[encoded data removed]",
      "text/plain": [
       "<Figure size 400x400 with 1 Axes>"
      ]
     },
     "metadata": {},
     "output_type": "display_data"
    },
    {
     "name": "stdout",
     "output_type": "stream",
     "text": [
      "Valores dos pixels do dígito (28x28):\n",
      "[[0.         0.         0.         0.         0.         0.\n",
      "  0.         0.         0.         0.         0.         0.\n",
      "  0.         0.         0.         0.         0.         0.\n",
      "  0.         0.         0.         0.         0.         0.\n",
      "  0.         0.         0.         0.        ]\n",
      " [0.         0.         0.         0.         0.         0.\n",
      "  0.         0.         0.         0.         0.         0.\n",
      "  0.         0.         0.         0.         0.         0.\n",
      "  0.         0.         0.         0.         0.         0.\n",
      "  0.         0.         0.         0.        ]\n",
      " [0.         0.         0.         0.         0.         0.\n",
      "  0.         0.         0.         0.         0.         0.\n",
      "  0.         0.         0.         0.         0.         0.\n",
      "  0.         0.         0.         0.         0.         0.\n",
      "  0.         0.         0.         0.        ]\n",
      " [0.         0.         0.         0.         0.         0.\n",
      "  0.         0.         0.         0.         0.         0.\n",
      "  0.         0.         0.         0.         0.         0.\n",
      "  0.         0.         0.         0.         0.         0.\n",
      "  0.         0.         0.         0.        ]\n",
      " [0.         0.         0.         0.         0.         0.\n",
      "  0.         0.         0.         0.         0.         0.\n",
      "  0.         0.         0.         0.         0.         0.\n",
      "  0.         0.         0.         0.         0.         0.\n",
      "  0.         0.         0.         0.        ]\n",
      " [0.         0.         0.         0.         0.         0.\n",
      "  0.         0.         0.         0.         0.         0.\n",
      "  0.         0.         0.         0.         0.         0.\n",
      "  0.48627451 0.99215686 1.         0.24705882 0.         0.\n",
      "  0.         0.         0.         0.        ]\n",
      " [0.         0.         0.         0.         0.         0.\n",
      "  0.         0.         0.         0.         0.         0.\n",
      "  0.         0.         0.         0.         0.         0.37647059\n",
      "  0.95686275 0.98431373 0.99215686 0.24313725 0.         0.\n",
      "  0.         0.         0.         0.        ]\n",
      " [0.         0.         0.         0.         0.         0.\n",
      "  0.         0.         0.         0.         0.         0.\n",
      "  0.         0.         0.         0.         0.         0.49803922\n",
      "  0.98431373 0.98431373 0.99215686 0.24313725 0.         0.\n",
      "  0.         0.         0.         0.        ]\n",
      " [0.         0.         0.         0.         0.         0.\n",
      "  0.         0.         0.         0.         0.         0.\n",
      "  0.         0.         0.         0.         0.26666667 0.9254902\n",
      "  0.98431373 0.82745098 0.12156863 0.03137255 0.         0.\n",
      "  0.         0.         0.         0.        ]\n",
      " [0.         0.         0.         0.         0.         0.\n",
      "  0.         0.         0.         0.         0.         0.\n",
      "  0.         0.         0.         0.23529412 0.89411765 0.98431373\n",
      "  0.98431373 0.36862745 0.         0.         0.         0.\n",
      "  0.         0.         0.         0.        ]\n",
      " [0.         0.         0.         0.         0.         0.\n",
      "  0.         0.         0.         0.         0.         0.\n",
      "  0.         0.         0.         0.60784314 0.99215686 0.99215686\n",
      "  0.74117647 0.         0.         0.         0.         0.\n",
      "  0.         0.         0.         0.        ]\n",
      " [0.         0.         0.         0.         0.         0.\n",
      "  0.         0.         0.         0.         0.         0.\n",
      "  0.         0.         0.07843137 0.99215686 0.98431373 0.92156863\n",
      "  0.25882353 0.         0.         0.         0.         0.\n",
      "  0.         0.         0.         0.        ]\n",
      " [0.         0.         0.         0.         0.         0.\n",
      "  0.         0.         0.         0.         0.         0.\n",
      "  0.         0.1254902  0.80392157 0.99215686 0.98431373 0.49411765\n",
      "  0.         0.         0.         0.         0.         0.\n",
      "  0.         0.         0.         0.        ]\n",
      " [0.         0.         0.         0.         0.         0.\n",
      "  0.         0.         0.         0.         0.         0.\n",
      "  0.         0.40784314 0.98431373 0.99215686 0.72156863 0.05882353\n",
      "  0.         0.         0.         0.         0.         0.\n",
      "  0.         0.         0.         0.        ]\n",
      " [0.         0.         0.         0.         0.         0.\n",
      "  0.         0.         0.         0.         0.         0.\n",
      "  0.31372549 0.94117647 0.98431373 0.75686275 0.09019608 0.\n",
      "  0.         0.         0.         0.         0.         0.\n",
      "  0.         0.         0.         0.        ]\n",
      " [0.         0.         0.         0.         0.         0.\n",
      "  0.         0.         0.         0.         0.         0.1254902\n",
      "  0.99215686 0.99215686 0.99215686 0.62352941 0.         0.\n",
      "  0.         0.         0.         0.         0.         0.\n",
      "  0.         0.         0.         0.        ]\n",
      " [0.         0.         0.         0.         0.         0.\n",
      "  0.         0.         0.         0.         0.         0.59215686\n",
      "  0.98431373 0.98431373 0.98431373 0.15294118 0.         0.\n",
      "  0.         0.         0.         0.         0.         0.\n",
      "  0.         0.         0.         0.        ]\n",
      " [0.         0.         0.         0.         0.         0.\n",
      "  0.         0.         0.         0.         0.18823529 0.86666667\n",
      "  0.98431373 0.98431373 0.6745098  0.         0.         0.\n",
      "  0.         0.         0.         0.         0.         0.\n",
      "  0.         0.         0.         0.        ]\n",
      " [0.         0.         0.         0.         0.         0.\n",
      "  0.         0.         0.         0.         0.91764706 0.98431373\n",
      "  0.98431373 0.76862745 0.04705882 0.         0.         0.\n",
      "  0.         0.         0.         0.         0.         0.\n",
      "  0.         0.         0.         0.        ]\n",
      " [0.         0.         0.         0.         0.         0.\n",
      "  0.         0.         0.         0.         0.99215686 0.98431373\n",
      "  0.98431373 0.34901961 0.         0.         0.         0.\n",
      "  0.         0.         0.         0.         0.         0.\n",
      "  0.         0.         0.         0.        ]\n",
      " [0.         0.         0.         0.         0.         0.\n",
      "  0.         0.         0.         0.62352941 1.         0.99215686\n",
      "  0.99215686 0.12156863 0.         0.         0.         0.\n",
      "  0.         0.         0.         0.         0.         0.\n",
      "  0.         0.         0.         0.        ]\n",
      " [0.         0.         0.         0.         0.         0.\n",
      "  0.         0.         0.18823529 0.89411765 0.99215686 0.96862745\n",
      "  0.54901961 0.03137255 0.         0.         0.         0.\n",
      "  0.         0.         0.         0.         0.         0.\n",
      "  0.         0.         0.         0.        ]\n",
      " [0.         0.         0.         0.         0.         0.\n",
      "  0.         0.         0.25098039 0.98431373 0.99215686 0.8627451\n",
      "  0.         0.         0.         0.         0.         0.\n",
      "  0.         0.         0.         0.         0.         0.\n",
      "  0.         0.         0.         0.        ]\n",
      " [0.         0.         0.         0.         0.         0.\n",
      "  0.         0.         0.25098039 0.98431373 0.99215686 0.8627451\n",
      "  0.         0.         0.         0.         0.         0.\n",
      "  0.         0.         0.         0.         0.         0.\n",
      "  0.         0.         0.         0.        ]\n",
      " [0.         0.         0.         0.         0.         0.\n",
      "  0.         0.         0.09411765 0.75686275 0.99215686 0.8627451\n",
      "  0.         0.         0.         0.         0.         0.\n",
      "  0.         0.         0.         0.         0.         0.\n",
      "  0.         0.         0.         0.        ]\n",
      " [0.         0.         0.         0.         0.         0.\n",
      "  0.         0.         0.         0.         0.         0.\n",
      "  0.         0.         0.         0.         0.         0.\n",
      "  0.         0.         0.         0.         0.         0.\n",
      "  0.         0.         0.         0.        ]\n",
      " [0.         0.         0.         0.         0.         0.\n",
      "  0.         0.         0.         0.         0.         0.\n",
      "  0.         0.         0.         0.         0.         0.\n",
      "  0.         0.         0.         0.         0.         0.\n",
      "  0.         0.         0.         0.        ]\n",
      " [0.         0.         0.         0.         0.         0.\n",
      "  0.         0.         0.         0.         0.         0.\n",
      "  0.         0.         0.         0.         0.         0.\n",
      "  0.         0.         0.         0.         0.         0.\n",
      "  0.         0.         0.         0.        ]]\n"
     ]
    }
   ],
   "source": [
    "idx_digit = indices[1]\n",
    "digit_image = X_train[idx_digit]\n",
    "\n",
    "# Exibir a imagem do dígito\n",
    "plt.figure(figsize=(4, 4))\n",
    "plt.imshow(digit_image, cmap=\"gray\")\n",
    "plt.title(f\"Dígito: {y_train[idx_digit]} (Dígito)\")\n",
    "plt.axis(\"off\")  # Remover os eixos\n",
    "plt.show()\n",
    "\n",
    "# Imprimir os valores numéricos dos pixels\n",
    "print(\"Valores dos pixels do dígito (28x28):\")\n",
    "print(digit_image)"
   ]
  },
  {
   "cell_type": "code",
   "execution_count": 10,
   "metadata": {},
   "outputs": [
    {
     "name": "stdout",
     "output_type": "stream",
     "text": [
      "(50000, 28, 28, 1)\n",
      "(10000, 28, 28, 1)\n",
      "(10000, 28, 28, 1)\n"
     ]
    }
   ],
   "source": [
    "# Ajustar os dados para o formato esperado pelos modelos CNN (matrizes 4D)\n",
    "X_train = np.reshape(X_train, (X_train.shape[0], 28, 28, 1))\n",
    "X_val = np.reshape(X_val, (X_val.shape[0], 28, 28, 1))\n",
    "X_test = np.reshape(X_test, (X_test.shape[0], 28, 28, 1))\n",
    "\n",
    "print(X_train.shape)\n",
    "print(X_val.shape)\n",
    "print(X_test.shape)"
   ]
  },
  {
   "cell_type": "code",
   "execution_count": 5,
   "metadata": {},
   "outputs": [],
   "source": [
    "# Função para embaralhar os pixels da imagem\n",
    "def shuffel_pixels(idx, data):\n",
    "    data_new = np.zeros(data.shape)\n",
    "    for i, img in enumerate(data):\n",
    "        data_new[i] = img.flatten()[idx].reshape((28, 28, 1))\n",
    "    return data_new"
   ]
  },
  {
   "cell_type": "code",
   "execution_count": 6,
   "metadata": {},
   "outputs": [],
   "source": [
    "# Função para plotar gráficos de acurácia e loss\n",
    "def plot_metrics(history, title_suffix=\"\"):\n",
    "    plt.figure(figsize=(12, 5))\n",
    "    \n",
    "    # Plotar acurácia\n",
    "    plt.subplot(1, 2, 1)\n",
    "    plt.plot(history.history['accuracy'], label='Treinamento')\n",
    "    plt.plot(history.history['val_accuracy'], label='Validação')\n",
    "    plt.title(f\"Acurácia x Épocas {title_suffix}\")\n",
    "    plt.xlabel(\"Épocas\")\n",
    "    plt.ylabel(\"Acurácia\")\n",
    "    plt.legend()\n",
    "    \n",
    "    # Plotar perda (loss)\n",
    "    plt.subplot(1, 2, 2)\n",
    "    plt.plot(history.history['loss'], label='Treinamento')\n",
    "    plt.plot(history.history['val_loss'], label='Validação')\n",
    "    plt.title(f\"Loss x Épocas {title_suffix}\")\n",
    "    plt.xlabel(\"Épocas\")\n",
    "    plt.ylabel(\"Loss\")\n",
    "    plt.legend()\n",
    "    \n",
    "    plt.tight_layout()\n",
    "    plt.show()"
   ]
  },
  {
   "cell_type": "code",
   "execution_count": 7,
   "metadata": {},
   "outputs": [],
   "source": [
    "# Função para imprimir a matriz de confusão\n",
    "def print_confusion_matrix(y_true, y_pred, title=\"Matriz de Confusão\"):\n",
    "    conf_matrix = confusion_matrix(y_true, y_pred)\n",
    "    print(title)\n",
    "    print(conf_matrix)"
   ]
  },
  {
   "cell_type": "code",
   "execution_count": 8,
   "metadata": {},
   "outputs": [],
   "source": [
    "# Gerar índices embaralhados para embaralhar os pixels\n",
    "np.random.seed(42)\n",
    "shuffel_idx = np.random.permutation(np.arange(28 * 28))"
   ]
  },
  {
   "cell_type": "code",
   "execution_count": 9,
   "metadata": {},
   "outputs": [],
   "source": [
    "# Embaralhar os dados de treino, validação e teste\n",
    "X_train_shuffle = shuffel_pixels(shuffel_idx, X_train)\n",
    "X_val_shuffle = shuffel_pixels(shuffel_idx, X_val)\n",
    "X_test_shuffle = shuffel_pixels(shuffel_idx, X_test)"
   ]
  },
  {
   "cell_type": "code",
   "execution_count": 10,
   "metadata": {},
   "outputs": [
    {
     "data": {
      "image/png": "[encoded data removed]",
      "text/plain": [
       "<Figure size 1200x600 with 10 Axes>"
      ]
     },
     "metadata": {},
     "output_type": "display_data"
    }
   ],
   "source": [
    "# Lista para armazenar os índices das primeiras ocorrências de cada dígito\n",
    "indices = []\n",
    "\n",
    "# Encontrar os índices das primeiras ocorrências dos dígitos de 0 a 9\n",
    "for digit in range(10):\n",
    "    idx = np.where(y_train == digit)[0][0]  # Obter o primeiro índice do dígito\n",
    "    indices.append(idx)\n",
    "\n",
    "# Exibir as 10 imagens embaralhadas correspondentes aos índices encontrados\n",
    "plt.figure(figsize=(12, 6))\n",
    "for i, idx in enumerate(indices):\n",
    "    plt.subplot(2, 5, i + 1)  # Layout 2x5 para 10 imagens\n",
    "    plt.imshow(X_train_shuffle[idx].reshape(28, 28), cmap=\"gray\")  # Mostrar a imagem embaralhada\n",
    "    plt.title(f\"Dígito Embaralhado: {y_train[idx]}\")  # Título com o rótulo original\n",
    "    plt.axis(\"off\")  # Remover os eixos\n",
    "\n",
    "plt.tight_layout()  # Ajustar o layout para evitar sobreposição\n",
    "plt.show()"
   ]
  },
  {
   "cell_type": "code",
   "execution_count": 11,
   "metadata": {},
   "outputs": [],
   "source": [
    "# Ajustar os dados para o formato vetorial necessário para as fcNNs (fully connected neural networks)\n",
    "X_train_flat = X_train.reshape([X_train.shape[0], 784])\n",
    "X_val_flat = X_val.reshape([X_val.shape[0], 784])\n",
    "X_test_flat = X_test.reshape([X_test.shape[0], 784])"
   ]
  },
  {
   "cell_type": "code",
   "execution_count": 12,
   "metadata": {},
   "outputs": [],
   "source": [
    "# Ajustar os dados embaralhados para o formato vetorial\n",
    "X_train_shuffle_flat = X_train_shuffle.reshape([X_train_shuffle.shape[0], 784])\n",
    "X_val_shuffle_flat = X_val_shuffle.reshape([X_val_shuffle.shape[0], 784])\n",
    "X_test_shuffle_flat = X_test_shuffle.reshape([X_test_shuffle.shape[0], 784])"
   ]
  },
  {
   "cell_type": "code",
   "execution_count": null,
   "metadata": {},
   "outputs": [],
   "source": [
    "# Definir uma rede neural totalmente conectada (fcNN) com 2 camadas ocultas\n",
    "model = Sequential()\n",
    "model.add(Dense(100, input_shape=(784,)))\n",
    "model.add(Activation('sigmoid'))\n",
    "model.add(Dense(50))\n",
    "model.add(Activation('sigmoid'))\n",
    "model.add(Dense(10))\n",
    "model.add(Activation('softmax'))"
   ]
  },
  {
   "cell_type": "code",
   "execution_count": 12,
   "metadata": {},
   "outputs": [],
   "source": [
    "# Compilar o modelo\n",
    "model.compile(loss='categorical_crossentropy',\n",
    "              optimizer='adam',\n",
    "              metrics=['accuracy'])"
   ]
  },
  {
   "cell_type": "code",
   "execution_count": null,
   "metadata": {},
   "outputs": [],
   "source": [
    "# Treinar a fcNN nos dados originais\n",
    "history = model.fit(X_train_flat, Y_train, \n",
    "                    batch_size=128, \n",
    "                    epochs=10,\n",
    "                    verbose=2, \n",
    "                    validation_data=(X_val_flat, Y_val))"
   ]
  },
  {
   "cell_type": "markdown",
   "metadata": {},
   "source": [
    "Estrutura da Matriz de Confusão\n",
    "Linhas: Representam as classes reais (rótulos verdadeiros) dos dígitos.\n",
    "Colunas: Representam as classes preditas (saídas do modelo)."
   ]
  },
  {
   "cell_type": "code",
   "execution_count": null,
   "metadata": {},
   "outputs": [],
   "source": [
    "# Plotar métricas e imprimir matriz de confusão (dados originais)\n",
    "plot_metrics(history, title_suffix=\"(Dados Originais - fcNN)\")\n",
    "pred = model.predict(X_test_flat)\n",
    "y_pred = np.argmax(pred, axis=1)\n",
    "y_true = np.argmax(Y_test, axis=1)\n",
    "print_confusion_matrix(y_true, y_pred, title=\"Matriz de Confusão - fcNN (Dados Originais)\")"
   ]
  },
  {
   "cell_type": "code",
   "execution_count": null,
   "metadata": {},
   "outputs": [],
   "source": [
    "# Avaliar o modelo nos dados de teste originais\n",
    "pred = model.predict(X_test_flat)\n",
    "acc_fc_orig = np.sum(np.argmax(Y_test, axis=1) == np.argmax(pred, axis=1)) / len(pred)\n",
    "print(\"Acurácia com dados originais (fcNN):\", acc_fc_orig)"
   ]
  },
  {
   "cell_type": "code",
   "execution_count": null,
   "metadata": {},
   "outputs": [],
   "source": [
    "# Definir uma rede neural totalmente conectada (fcNN) com 2 camadas ocultas\n",
    "model = Sequential()\n",
    "model.add(Dense(100, input_shape=(784,)))\n",
    "model.add(Activation('sigmoid'))\n",
    "model.add(Dense(50))\n",
    "model.add(Activation('sigmoid'))\n",
    "model.add(Dense(10))\n",
    "model.add(Activation('softmax'))"
   ]
  },
  {
   "cell_type": "code",
   "execution_count": 17,
   "metadata": {},
   "outputs": [],
   "source": [
    "# Compilar o modelo\n",
    "model.compile(loss='categorical_crossentropy',\n",
    "              optimizer='adam',\n",
    "              metrics=['accuracy'])"
   ]
  },
  {
   "cell_type": "code",
   "execution_count": null,
   "metadata": {},
   "outputs": [],
   "source": [
    "history = model.fit(X_train_shuffle_flat, Y_train, \n",
    "                    batch_size=128, \n",
    "                    epochs=10,\n",
    "                    verbose=2, \n",
    "                    validation_data=(X_val_shuffle_flat, Y_val))"
   ]
  },
  {
   "cell_type": "code",
   "execution_count": null,
   "metadata": {},
   "outputs": [],
   "source": [
    "# Plotar métricas e imprimir matriz de confusão (dados embaralhados)\n",
    "plot_metrics(history, title_suffix=\"(Dados Embaralhados - fcNN)\")\n",
    "pred = model.predict(X_test_shuffle_flat)\n",
    "y_pred = np.argmax(pred, axis=1)\n",
    "y_true = np.argmax(Y_test, axis=1)\n",
    "print_confusion_matrix(y_true, y_pred, title=\"Matriz de Confusão - fcNN (Dados Embaralhados)\")"
   ]
  },
  {
   "cell_type": "code",
   "execution_count": null,
   "metadata": {},
   "outputs": [],
   "source": [
    "# Avaliar o modelo nos dados de teste embaralhados\n",
    "pred = model.predict(X_test_shuffle_flat)\n",
    "acc_fc_shuffle = np.sum(np.argmax(Y_test, axis=1) == np.argmax(pred, axis=1)) / len(pred)\n",
    "print(\"Acurácia com dados embaralhados (fcNN):\", acc_fc_shuffle)"
   ]
  },
  {
   "cell_type": "code",
   "execution_count": null,
   "metadata": {},
   "outputs": [],
   "source": [
    "# Definir uma CNN para trabalhar com dados organizados espacialmente\n",
    "model = Sequential()\n",
    "model.add(Convolution2D(8, (3, 3), padding='same', input_shape=(28, 28, 1)))\n",
    "model.add(Activation('relu'))\n",
    "model.add(Convolution2D(8, (3, 3), padding='same'))\n",
    "model.add(Activation('relu'))\n",
    "model.add(MaxPooling2D(pool_size=(2, 2)))\n",
    "\n",
    "model.add(Convolution2D(16, (3, 3), padding='same'))\n",
    "model.add(Activation('relu'))\n",
    "model.add(Convolution2D(16, (3, 3), padding='same'))\n",
    "model.add(Activation('relu'))\n",
    "model.add(MaxPooling2D(pool_size=(2, 2)))\n",
    "\n",
    "model.add(Flatten())\n",
    "model.add(Dense(40))\n",
    "model.add(Activation('relu'))\n",
    "model.add(Dense(10))\n",
    "model.add(Activation('softmax'))"
   ]
  },
  {
   "cell_type": "code",
   "execution_count": 22,
   "metadata": {},
   "outputs": [],
   "source": [
    "model.compile(loss='categorical_crossentropy',\n",
    "              optimizer='adam',\n",
    "              metrics=['accuracy'])"
   ]
  },
  {
   "cell_type": "code",
   "execution_count": null,
   "metadata": {},
   "outputs": [],
   "source": [
    "# Treinar a CNN nos dados originais\n",
    "history = model.fit(X_train, Y_train, \n",
    "                    batch_size=128, \n",
    "                    epochs=10,\n",
    "                    verbose=2, \n",
    "                    validation_data=(X_val, Y_val))"
   ]
  },
  {
   "cell_type": "code",
   "execution_count": null,
   "metadata": {},
   "outputs": [],
   "source": [
    "# Plotar métricas e imprimir matriz de confusão (dados originais)\n",
    "plot_metrics(history, title_suffix=\"(Dados Originais - CNN)\")\n",
    "pred = model.predict(X_test)\n",
    "y_pred = np.argmax(pred, axis=1)\n",
    "y_true = np.argmax(Y_test, axis=1)\n",
    "print_confusion_matrix(y_true, y_pred, title=\"Matriz de Confusão - CNN (Dados Originais)\")"
   ]
  },
  {
   "cell_type": "code",
   "execution_count": null,
   "metadata": {},
   "outputs": [],
   "source": [
    "# Avaliar a CNN nos dados originais\n",
    "pred = model.predict(X_test)\n",
    "acc_cnn = np.sum(np.argmax(Y_test, axis=1) == np.argmax(pred, axis=1)) / len(pred)\n",
    "print(\"Acurácia com CNN (dados originais):\", acc_cnn)"
   ]
  },
  {
   "cell_type": "code",
   "execution_count": null,
   "metadata": {},
   "outputs": [],
   "source": [
    "# Treinar a CNN nos dados embaralhados\n",
    "history = model.fit(X_train_shuffle, Y_train, \n",
    "                    batch_size=128, \n",
    "                    epochs=10,\n",
    "                    verbose=2, \n",
    "                    validation_data=(X_val_shuffle, Y_val))"
   ]
  },
  {
   "cell_type": "code",
   "execution_count": null,
   "metadata": {},
   "outputs": [],
   "source": [
    "# Plotar métricas e imprimir matriz de confusão (dados embaralhados)\n",
    "plot_metrics(history, title_suffix=\"(Dados Embaralhados - CNN)\")\n",
    "pred = model.predict(X_test_shuffle)\n",
    "y_pred = np.argmax(pred, axis=1)\n",
    "y_true = np.argmax(Y_test, axis=1)\n",
    "print_confusion_matrix(y_true, y_pred, title=\"Matriz de Confusão - CNN (Dados Embaralhados)\")"
   ]
  },
  {
   "cell_type": "code",
   "execution_count": null,
   "metadata": {},
   "outputs": [],
   "source": [
    "# Avaliar a CNN nos dados embaralhados\n",
    "pred = model.predict(X_test_shuffle)\n",
    "acc_cnn_shuffle = np.sum(np.argmax(Y_test, axis=1) == np.argmax(pred, axis=1)) / len(pred)\n",
    "print(\"Acurácia com CNN (dados embaralhados):\", acc_cnn_shuffle)"
   ]
  }
 ],
 "metadata": {
  "kernelspec": {
   "display_name": ".env",
   "language": "python",
   "name": "python3"
  },
  "language_info": {
   "codemirror_mode": {
    "name": "ipython",
    "version": 3
   },
   "file_extension": ".py",
   "mimetype": "text/x-python",
   "name": "python",
   "nbconvert_exporter": "python",
   "pygments_lexer": "ipython3",
   "version": "3.11.5"
  }
 },
 "nbformat": 4,
 "nbformat_minor": 2
}
